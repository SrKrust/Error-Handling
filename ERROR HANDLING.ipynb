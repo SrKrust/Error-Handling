{
 "cells": [
  {
   "cell_type": "markdown",
   "id": "e858589e",
   "metadata": {},
   "source": [
    "* Error in Python can be of two types i.e. Syntax errors and Exceptions. Errors are the problems in a program due to which the program will stop the execution. \n",
    "* On the other hand, exceptions are raised when some internal events occur which changes the normal flow of the program."
   ]
  },
  {
   "cell_type": "markdown",
   "id": "76e72d51",
   "metadata": {},
   "source": [
    "# Difference between Syntax Error and Exceptions\n",
    "* Syntax Error: As the name suggests this error is caused by the wrong syntax in the code. It leads to the termination of the program. "
   ]
  },
  {
   "cell_type": "code",
   "execution_count": 2,
   "id": "88aa5a38",
   "metadata": {},
   "outputs": [
    {
     "ename": "SyntaxError",
     "evalue": "invalid syntax (<ipython-input-2-2eeae9d96960>, line 6)",
     "output_type": "error",
     "traceback": [
      "\u001b[1;36m  File \u001b[1;32m\"<ipython-input-2-2eeae9d96960>\"\u001b[1;36m, line \u001b[1;32m6\u001b[0m\n\u001b[1;33m    if(amount > 2999) # colon(:) is missing\u001b[0m\n\u001b[1;37m                      ^\u001b[0m\n\u001b[1;31mSyntaxError\u001b[0m\u001b[1;31m:\u001b[0m invalid syntax\n"
     ]
    }
   ],
   "source": [
    "# initialize the amount variable\n",
    "amount = 10000\n",
    "\n",
    "# check that You are eligible to\n",
    "# purchase Dsa Self Paced or not\n",
    "if(amount > 2999) # colon(:) is missing\n",
    "    print(\"You are eligible to purchase Dsa Self Paced\")\n"
   ]
  },
  {
   "cell_type": "code",
   "execution_count": 4,
   "id": "70f7f712",
   "metadata": {},
   "outputs": [
    {
     "name": "stdout",
     "output_type": "stream",
     "text": [
      "Hey\n"
     ]
    },
    {
     "ename": "NameError",
     "evalue": "name 'Print' is not defined",
     "output_type": "error",
     "traceback": [
      "\u001b[1;31m---------------------------------------------------------------------------\u001b[0m",
      "\u001b[1;31mNameError\u001b[0m                                 Traceback (most recent call last)",
      "\u001b[1;32m<ipython-input-4-c788e945da7d>\u001b[0m in \u001b[0;36m<module>\u001b[1;34m\u001b[0m\n\u001b[0;32m      1\u001b[0m \u001b[0mprint\u001b[0m\u001b[1;33m(\u001b[0m\u001b[1;34m\"Hey\"\u001b[0m\u001b[1;33m)\u001b[0m \u001b[1;31m# Compile time Error\u001b[0m\u001b[1;33m\u001b[0m\u001b[1;33m\u001b[0m\u001b[0m\n\u001b[1;32m----> 2\u001b[1;33m \u001b[0mPrint\u001b[0m\u001b[1;33m(\u001b[0m\u001b[1;34m\"Hello\"\u001b[0m\u001b[1;33m)\u001b[0m\u001b[1;33m\u001b[0m\u001b[1;33m\u001b[0m\u001b[0m\n\u001b[0m",
      "\u001b[1;31mNameError\u001b[0m: name 'Print' is not defined"
     ]
    }
   ],
   "source": [
    "print(\"Hey\") # Compile time Error\n",
    "Print(\"Hello\")"
   ]
  },
  {
   "cell_type": "markdown",
   "id": "a57f5e8c",
   "metadata": {},
   "source": [
    "*  Exceptions: Exceptions are raised when the program is syntactically correct, but the code resulted in an error. This error does not stop the execution of the program, however, it changes the normal flow of the program."
   ]
  },
  {
   "cell_type": "code",
   "execution_count": 2,
   "id": "d40030a8",
   "metadata": {},
   "outputs": [
    {
     "ename": "ZeroDivisionError",
     "evalue": "division by zero",
     "output_type": "error",
     "traceback": [
      "\u001b[1;31m---------------------------------------------------------------------------\u001b[0m",
      "\u001b[1;31mZeroDivisionError\u001b[0m                         Traceback (most recent call last)",
      "\u001b[1;32m<ipython-input-2-d5f4264d28e5>\u001b[0m in \u001b[0;36m<module>\u001b[1;34m\u001b[0m\n\u001b[0;32m      3\u001b[0m \u001b[1;33m\u001b[0m\u001b[0m\n\u001b[0;32m      4\u001b[0m \u001b[1;31m# perform division with 0\u001b[0m\u001b[1;33m\u001b[0m\u001b[1;33m\u001b[0m\u001b[1;33m\u001b[0m\u001b[0m\n\u001b[1;32m----> 5\u001b[1;33m \u001b[0ma\u001b[0m \u001b[1;33m=\u001b[0m \u001b[0mmarks\u001b[0m \u001b[1;33m/\u001b[0m \u001b[1;36m0\u001b[0m \u001b[1;31m# Run time error\u001b[0m\u001b[1;33m\u001b[0m\u001b[1;33m\u001b[0m\u001b[0m\n\u001b[0m\u001b[0;32m      6\u001b[0m \u001b[1;33m\u001b[0m\u001b[0m\n",
      "\u001b[1;31mZeroDivisionError\u001b[0m: division by zero"
     ]
    }
   ],
   "source": [
    "# initialize the amount variable\n",
    "marks = 10000\n",
    "\n",
    "# perform division with 0\n",
    "a = marks / 0 # Run time error\n",
    "\n"
   ]
  },
  {
   "cell_type": "code",
   "execution_count": 5,
   "id": "4c9e71d8",
   "metadata": {},
   "outputs": [
    {
     "name": "stdout",
     "output_type": "stream",
     "text": [
      "73.33333333333333\n"
     ]
    }
   ],
   "source": [
    "# Systematic error\n",
    "a = 210\n",
    "b = 10\n",
    "print((a+b)/3) # Average of two numbers..\n"
   ]
  },
  {
   "cell_type": "code",
   "execution_count": 8,
   "id": "d30f224d",
   "metadata": {},
   "outputs": [
    {
     "ename": "TypeError",
     "evalue": "unsupported operand type(s) for +: 'int' and 'str'",
     "output_type": "error",
     "traceback": [
      "\u001b[1;31m---------------------------------------------------------------------------\u001b[0m",
      "\u001b[1;31mTypeError\u001b[0m                                 Traceback (most recent call last)",
      "\u001b[1;32m<ipython-input-8-d2cf3806d21f>\u001b[0m in \u001b[0;36m<module>\u001b[1;34m\u001b[0m\n\u001b[0;32m      2\u001b[0m \u001b[0ma\u001b[0m \u001b[1;33m=\u001b[0m \u001b[1;36m55\u001b[0m\u001b[1;33m\u001b[0m\u001b[1;33m\u001b[0m\u001b[0m\n\u001b[0;32m      3\u001b[0m \u001b[0mb\u001b[0m \u001b[1;33m=\u001b[0m \u001b[1;34m\"Etlhive\"\u001b[0m\u001b[1;33m\u001b[0m\u001b[1;33m\u001b[0m\u001b[0m\n\u001b[1;32m----> 4\u001b[1;33m \u001b[0mprint\u001b[0m\u001b[1;33m(\u001b[0m\u001b[0ma\u001b[0m \u001b[1;33m+\u001b[0m \u001b[0mb\u001b[0m\u001b[1;33m)\u001b[0m \u001b[1;31m# occurs when we combine two objects of diffrent types..\u001b[0m\u001b[1;33m\u001b[0m\u001b[1;33m\u001b[0m\u001b[0m\n\u001b[0m",
      "\u001b[1;31mTypeError\u001b[0m: unsupported operand type(s) for +: 'int' and 'str'"
     ]
    }
   ],
   "source": [
    "# Type Error\n",
    "a = 55\n",
    "b = \"Etlhive\"\n",
    "print(a + b) # occurs when we combine two objects of diffrent types..\n"
   ]
  },
  {
   "cell_type": "code",
   "execution_count": 7,
   "id": "b46196e4",
   "metadata": {},
   "outputs": [
    {
     "ename": "NameError",
     "evalue": "name 'z' is not defined",
     "output_type": "error",
     "traceback": [
      "\u001b[1;31m---------------------------------------------------------------------------\u001b[0m",
      "\u001b[1;31mNameError\u001b[0m                                 Traceback (most recent call last)",
      "\u001b[1;32m<ipython-input-7-6603bb7a3328>\u001b[0m in \u001b[0;36m<module>\u001b[1;34m\u001b[0m\n\u001b[0;32m      1\u001b[0m \u001b[1;31m# Name Error\u001b[0m\u001b[1;33m\u001b[0m\u001b[1;33m\u001b[0m\u001b[1;33m\u001b[0m\u001b[0m\n\u001b[0;32m      2\u001b[0m \u001b[0ma\u001b[0m \u001b[1;33m=\u001b[0m \u001b[1;36m10\u001b[0m\u001b[1;33m\u001b[0m\u001b[1;33m\u001b[0m\u001b[0m\n\u001b[1;32m----> 3\u001b[1;33m \u001b[0mresult\u001b[0m \u001b[1;33m=\u001b[0m \u001b[0ma\u001b[0m \u001b[1;33m+\u001b[0m \u001b[0mz\u001b[0m\u001b[1;33m\u001b[0m\u001b[1;33m\u001b[0m\u001b[0m\n\u001b[0m\u001b[0;32m      4\u001b[0m \u001b[0mprint\u001b[0m\u001b[1;33m(\u001b[0m\u001b[0mresult\u001b[0m\u001b[1;33m)\u001b[0m\u001b[1;33m\u001b[0m\u001b[1;33m\u001b[0m\u001b[0m\n",
      "\u001b[1;31mNameError\u001b[0m: name 'z' is not defined"
     ]
    }
   ],
   "source": [
    "# Name Error\n",
    "a = 10\n",
    "result = a + z\n",
    "print(result)"
   ]
  },
  {
   "cell_type": "code",
   "execution_count": 13,
   "id": "cc63c6b4",
   "metadata": {},
   "outputs": [
    {
     "ename": "ValueError",
     "evalue": "complex() arg is a malformed string",
     "output_type": "error",
     "traceback": [
      "\u001b[1;31m---------------------------------------------------------------------------\u001b[0m",
      "\u001b[1;31mValueError\u001b[0m                                Traceback (most recent call last)",
      "\u001b[1;32m<ipython-input-13-276489a3a870>\u001b[0m in \u001b[0;36m<module>\u001b[1;34m\u001b[0m\n\u001b[0;32m      1\u001b[0m \u001b[1;31m# value error\u001b[0m\u001b[1;33m\u001b[0m\u001b[1;33m\u001b[0m\u001b[1;33m\u001b[0m\u001b[0m\n\u001b[0;32m      2\u001b[0m \u001b[0ma\u001b[0m \u001b[1;33m=\u001b[0m \u001b[1;34m\"Rajalakshmi\"\u001b[0m\u001b[1;33m\u001b[0m\u001b[1;33m\u001b[0m\u001b[0m\n\u001b[1;32m----> 3\u001b[1;33m \u001b[0mprint\u001b[0m\u001b[1;33m(\u001b[0m\u001b[0mcomplex\u001b[0m\u001b[1;33m(\u001b[0m\u001b[0ma\u001b[0m\u001b[1;33m)\u001b[0m\u001b[1;33m)\u001b[0m \u001b[1;31m# not compatible..\u001b[0m\u001b[1;33m\u001b[0m\u001b[1;33m\u001b[0m\u001b[0m\n\u001b[0m",
      "\u001b[1;31mValueError\u001b[0m: complex() arg is a malformed string"
     ]
    }
   ],
   "source": [
    "# value error\n",
    "a = \"Rajalakshmi\"\n",
    "print(complex(a)) # not compatible.."
   ]
  },
  {
   "cell_type": "code",
   "execution_count": 10,
   "id": "68e3d6f3",
   "metadata": {},
   "outputs": [],
   "source": [
    "a = 12\n",
    "b = str(a)"
   ]
  },
  {
   "cell_type": "markdown",
   "id": "07c8d6cc",
   "metadata": {},
   "source": [
    "* The try block lets you test a block of code for errors.\n",
    "\n",
    "* The except block lets you handle the error.\n",
    "\n",
    "* The else block lets you execute code when there is no error.\n",
    "\n",
    "* The finally block lets you execute code, regardless of the result of the try- and except blocks.\n",
    "\n"
   ]
  },
  {
   "cell_type": "markdown",
   "id": "96b966f5",
   "metadata": {},
   "source": [
    "# Exception Handling\n",
    "\n",
    "* When an error occurs, or exception as we call it, Python will normally stop and generate an error message.# "
   ]
  },
  {
   "cell_type": "code",
   "execution_count": 2,
   "id": "57df5479",
   "metadata": {},
   "outputs": [
    {
     "name": "stdout",
     "output_type": "stream",
     "text": [
      "An exception occurred\n"
     ]
    }
   ],
   "source": [
    "try:\n",
    "    print(z)\n",
    "except:\n",
    "    print(\"An exception occurred\")"
   ]
  },
  {
   "cell_type": "code",
   "execution_count": 40,
   "id": "bedc9d6e",
   "metadata": {},
   "outputs": [
    {
     "ename": "NameError",
     "evalue": "name 'z' is not defined",
     "output_type": "error",
     "traceback": [
      "\u001b[1;31m---------------------------------------------------------------------------\u001b[0m",
      "\u001b[1;31mNameError\u001b[0m                                 Traceback (most recent call last)",
      "\u001b[1;32m<ipython-input-40-c01ac3f50fdc>\u001b[0m in \u001b[0;36m<module>\u001b[1;34m\u001b[0m\n\u001b[1;32m----> 1\u001b[1;33m \u001b[0mprint\u001b[0m\u001b[1;33m(\u001b[0m\u001b[0mz\u001b[0m\u001b[1;33m)\u001b[0m\u001b[1;33m\u001b[0m\u001b[1;33m\u001b[0m\u001b[0m\n\u001b[0m",
      "\u001b[1;31mNameError\u001b[0m: name 'z' is not defined"
     ]
    }
   ],
   "source": [
    "print(z)"
   ]
  },
  {
   "cell_type": "markdown",
   "id": "09339a54",
   "metadata": {},
   "source": [
    "# Many Exceptions\n",
    "* You can define as many exception blocks as you want, e.g. if you want to execute a special block of code for a special kind of error:"
   ]
  },
  {
   "cell_type": "code",
   "execution_count": 3,
   "id": "6bafb89d",
   "metadata": {},
   "outputs": [
    {
     "name": "stdout",
     "output_type": "stream",
     "text": [
      "Variable x is not defined\n"
     ]
    }
   ],
   "source": [
    "try:\n",
    "    print(z)\n",
    "except NameError:\n",
    "    print(\"Variable x is not defined\")\n",
    "except:\n",
    "    print(\"Something else went wrong\")"
   ]
  },
  {
   "cell_type": "markdown",
   "id": "6ea493c9",
   "metadata": {},
   "source": [
    "# Else\n",
    "* You can use the else keyword to define a block of code to be executed if no errors were raised:"
   ]
  },
  {
   "cell_type": "code",
   "execution_count": 1,
   "id": "76ff622f",
   "metadata": {},
   "outputs": [
    {
     "name": "stdout",
     "output_type": "stream",
     "text": [
      "Hello\n",
      "Nothing went wrong\n"
     ]
    }
   ],
   "source": [
    "try:\n",
    "    print(\"Hello\") # TRY (Hello)\n",
    "except:\n",
    "    print(\"Something went wrong\")\n",
    "else:\n",
    "    print(\"Nothing went wrong\")"
   ]
  },
  {
   "cell_type": "markdown",
   "id": "87e18a73",
   "metadata": {},
   "source": [
    "# Finally\n",
    "* The finally block, if specified, will be executed regardless if the try block raises an error or not."
   ]
  },
  {
   "cell_type": "code",
   "execution_count": 3,
   "id": "50002ad5",
   "metadata": {},
   "outputs": [
    {
     "name": "stdout",
     "output_type": "stream",
     "text": [
      "Something went wrong\n",
      "The 'try except' is finished\n"
     ]
    }
   ],
   "source": [
    "try:\n",
    "    print(z) # also try \"z\"\n",
    "except:\n",
    "    print(\"Something went wrong\")\n",
    "finally:\n",
    "    print(\"The 'try except' is finished\")"
   ]
  },
  {
   "cell_type": "markdown",
   "id": "2161edd1",
   "metadata": {},
   "source": [
    "# Raise an exception\n",
    "* As a Python developer you can choose to throw an exception if a condition occurs.\n",
    "\n",
    "* To throw (or raise) an exception, use the raise keyword."
   ]
  },
  {
   "cell_type": "code",
   "execution_count": 9,
   "id": "2e7a3f9a",
   "metadata": {},
   "outputs": [
    {
     "ename": "Exception",
     "evalue": "Sorry, no numbers below zero",
     "output_type": "error",
     "traceback": [
      "\u001b[1;31m---------------------------------------------------------------------------\u001b[0m",
      "\u001b[1;31mException\u001b[0m                                 Traceback (most recent call last)",
      "\u001b[1;32m<ipython-input-9-38174769ef86>\u001b[0m in \u001b[0;36m<module>\u001b[1;34m\u001b[0m\n\u001b[0;32m      2\u001b[0m \u001b[1;33m\u001b[0m\u001b[0m\n\u001b[0;32m      3\u001b[0m \u001b[1;32mif\u001b[0m \u001b[0mx\u001b[0m \u001b[1;33m<\u001b[0m \u001b[1;36m0\u001b[0m\u001b[1;33m:\u001b[0m\u001b[1;33m\u001b[0m\u001b[1;33m\u001b[0m\u001b[0m\n\u001b[1;32m----> 4\u001b[1;33m     \u001b[1;32mraise\u001b[0m \u001b[0mException\u001b[0m\u001b[1;33m(\u001b[0m\u001b[1;34m\"Sorry, no numbers below zero\"\u001b[0m\u001b[1;33m)\u001b[0m\u001b[1;33m\u001b[0m\u001b[1;33m\u001b[0m\u001b[0m\n\u001b[0m",
      "\u001b[1;31mException\u001b[0m: Sorry, no numbers below zero"
     ]
    }
   ],
   "source": [
    "x = -1\n",
    "\n",
    "if x < 0:\n",
    "    raise Exception(\"Sorry, no numbers below zero\")"
   ]
  },
  {
   "cell_type": "markdown",
   "id": "e8210bbf",
   "metadata": {},
   "source": [
    "# The raise keyword is used to raise an exception.\n",
    "\n",
    "* You can define what kind of error to raise, and the text to print to the user.# "
   ]
  },
  {
   "cell_type": "code",
   "execution_count": 4,
   "id": "da7b98cf",
   "metadata": {},
   "outputs": [
    {
     "name": "stdout",
     "output_type": "stream",
     "text": [
      "Second element = 2\n",
      "An error occurred\n"
     ]
    }
   ],
   "source": [
    "# Python program to handle simple runtime error\n",
    "#Python 3\n",
    "\n",
    "a = [1, 2, 3]\n",
    "try:\n",
    "    print (a[1])\n",
    "# Throws error since there are only 3 elements in array\n",
    "    print (\"Fourth element = %d\" %(a[3]))\n",
    "\n",
    "except:\n",
    "    print (\"An error occurred\")\n"
   ]
  },
  {
   "cell_type": "code",
   "execution_count": 12,
   "id": "a9780a5b",
   "metadata": {},
   "outputs": [],
   "source": [
    "# In the above example, the statements that can cause the error are placed inside the try statement (second print statement in our case). \n",
    "# The second print statement tries to access the fourth element of the list which is not there and this throws an exception. \n",
    "# This exception is then caught by the except statement."
   ]
  },
  {
   "cell_type": "code",
   "execution_count": 54,
   "id": "321b27f6",
   "metadata": {},
   "outputs": [
    {
     "name": "stdout",
     "output_type": "stream",
     "text": [
      "ZeroDivisionError Occurred and Handled\n"
     ]
    }
   ],
   "source": [
    "# Program to handle multiple errors with one\n",
    "# except statement\n",
    "# Python 3\n",
    "\n",
    "def fun(a):\n",
    "    if a < 4:\n",
    "\n",
    "# throws ZeroDivisionError for a = 3\n",
    "     b = a/(a-3)\n",
    "\n",
    "# throws NameError if a >= 4\n",
    "     print(\"Value of b = \", b)\n",
    "\n",
    "try:\n",
    "    fun(3)\n",
    "    fun(5) \n",
    "\n",
    "# note that braces () are necessary here for\n",
    "# multiple exceptions\n",
    "except ZeroDivisionError:\n",
    "     print(\"ZeroDivisionError Occurred and Handled\")\n",
    "except   r:\n",
    "    print(\"NameError Occurred and Handled\")\n"
   ]
  },
  {
   "cell_type": "markdown",
   "id": "7bd03765",
   "metadata": {},
   "source": [
    "# Try with Else Clause\n",
    "* In python, you can also use the else clause on the try-except block which must be present after all the except clauses. \n",
    "* The code enters the else block only if the try clause does not raise an exception."
   ]
  },
  {
   "cell_type": "code",
   "execution_count": 55,
   "id": "3df649f1",
   "metadata": {},
   "outputs": [
    {
     "name": "stdout",
     "output_type": "stream",
     "text": [
      "-5.0\n",
      "a/b result in 0\n",
      "2.3333333333333335\n"
     ]
    }
   ],
   "source": [
    "# Program to depict else clause with try-except\n",
    "# Python 3\n",
    "# Function which returns a/b\n",
    "def AbyB(a , b):\n",
    "\ttry:\n",
    "\t\tc = ((a+b) / (a-b))\n",
    "\texcept ZeroDivisionError:\n",
    "\t\tprint (\"a/b result in 0\")\n",
    "\telse:\n",
    "\t\tprint (c)\n",
    "\n",
    "# Driver program to test above function\n",
    "AbyB(2.0, 3.0)\n",
    "AbyB(3.0, 3.0)\n",
    "AbyB(5.0, 2.0)\n"
   ]
  },
  {
   "cell_type": "markdown",
   "id": "3a79442f",
   "metadata": {},
   "source": [
    "# Finally Keyword in Python\n",
    "\n",
    "* Python provides a keyword finally, which is always executed after the try and except blocks. \n",
    "* The final block always executes after normal termination of try block or after try block terminates due to some exception."
   ]
  },
  {
   "cell_type": "code",
   "execution_count": 6,
   "id": "81ab0632",
   "metadata": {},
   "outputs": [
    {
     "name": "stdout",
     "output_type": "stream",
     "text": [
      "Can't divide by zero\n",
      "This is always executed\n"
     ]
    }
   ],
   "source": [
    "# Python program to demonstrate finally\n",
    "\n",
    "# No exception Exception raised in try block\n",
    "try:\n",
    "\tk = 5//0 # raises divide by zero exception.\n",
    "\tprint(k)\n",
    "\n",
    "# handles zerodivision exception\n",
    "except ZeroDivisionError:\n",
    "\tprint(\"Can't divide by zero\")\n",
    "\n",
    "finally:\n",
    "\t# this block is always executed\n",
    "\t# regardless of exception generation.\n",
    "\tprint('This is always executed')\n"
   ]
  },
  {
   "cell_type": "markdown",
   "id": "07c2fa2f",
   "metadata": {},
   "source": [
    "# Raising Exception\n",
    "* The raise statement allows the programmer to force a specific exception to occur. \n",
    "* The sole argument in raise indicates the exception to be raised. \n",
    "* This must be either an exception instance or an exception class"
   ]
  },
  {
   "cell_type": "code",
   "execution_count": 1,
   "id": "23898a18",
   "metadata": {},
   "outputs": [
    {
     "ename": "TabError",
     "evalue": "inconsistent use of tabs and spaces in indentation (859170350.py, line 7)",
     "output_type": "error",
     "traceback": [
      "\u001b[1;36m  Input \u001b[1;32mIn [1]\u001b[1;36m\u001b[0m\n\u001b[1;33m    raise # To determine whether the exception was raised or not\u001b[0m\n\u001b[1;37m    ^\u001b[0m\n\u001b[1;31mTabError\u001b[0m\u001b[1;31m:\u001b[0m inconsistent use of tabs and spaces in indentation\n"
     ]
    }
   ],
   "source": [
    "# Program to depict Raising Exception\n",
    "\n",
    "try:\n",
    "\traise NameError(\"Hi there\") # Raise Error\n",
    "except NameError:\n",
    "   \tprint (\"An exception\")\n",
    "\traise # To determine whether the exception was raised or not\n"
   ]
  },
  {
   "cell_type": "code",
   "execution_count": null,
   "id": "91eb885b",
   "metadata": {},
   "outputs": [],
   "source": []
  }
 ],
 "metadata": {
  "kernelspec": {
   "display_name": "Python 3 (ipykernel)",
   "language": "python",
   "name": "python3"
  },
  "language_info": {
   "codemirror_mode": {
    "name": "ipython",
    "version": 3
   },
   "file_extension": ".py",
   "mimetype": "text/x-python",
   "name": "python",
   "nbconvert_exporter": "python",
   "pygments_lexer": "ipython3",
   "version": "3.9.12"
  }
 },
 "nbformat": 4,
 "nbformat_minor": 5
}
